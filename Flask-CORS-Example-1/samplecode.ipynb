{
 "cells": [
  {
   "cell_type": "code",
   "execution_count": 1,
   "metadata": {},
   "outputs": [
    {
     "name": "stdout",
     "output_type": "stream",
     "text": [
      "Requirement already satisfied: flask_cors in c:\\users\\bever\\anaconda3\\envs\\udacity\\lib\\site-packages (3.0.10)\n",
      "Requirement already satisfied: Flask>=0.9 in c:\\users\\bever\\anaconda3\\envs\\udacity\\lib\\site-packages (from flask_cors) (1.1.2)\n",
      "Requirement already satisfied: Six in c:\\users\\bever\\anaconda3\\envs\\udacity\\lib\\site-packages (from flask_cors) (1.15.0)\n",
      "Requirement already satisfied: Werkzeug>=0.15 in c:\\users\\bever\\anaconda3\\envs\\udacity\\lib\\site-packages (from Flask>=0.9->flask_cors) (1.0.1)\n",
      "Requirement already satisfied: itsdangerous>=0.24 in c:\\users\\bever\\anaconda3\\envs\\udacity\\lib\\site-packages (from Flask>=0.9->flask_cors) (1.1.0)\n",
      "Requirement already satisfied: click>=5.1 in c:\\users\\bever\\anaconda3\\envs\\udacity\\lib\\site-packages (from Flask>=0.9->flask_cors) (7.1.2)\n",
      "Requirement already satisfied: Jinja2>=2.10.1 in c:\\users\\bever\\anaconda3\\envs\\udacity\\lib\\site-packages (from Flask>=0.9->flask_cors) (2.11.2)\n",
      "Requirement already satisfied: MarkupSafe>=0.23 in c:\\users\\bever\\anaconda3\\envs\\udacity\\lib\\site-packages (from Jinja2>=2.10.1->Flask>=0.9->flask_cors) (1.1.1)\n"
     ]
    }
   ],
   "source": [
    "# Install the flask_cors dependency\n",
    "!pip install flask_cors\n",
    "# Check the specific version\n",
    "# !pip show flask_cors"
   ]
  },
  {
   "cell_type": "code",
   "execution_count": 2,
   "metadata": {},
   "outputs": [],
   "source": [
    "# Import Dependencies\n",
    "from flask import Flask\n",
    "from flask_cors import CORS"
   ]
  },
  {
   "cell_type": "code",
   "execution_count": 3,
   "metadata": {},
   "outputs": [],
   "source": [
    "def create_app(test_config=None):\n",
    "    app = Flask(__name__)\n",
    "#   CORS(app)\n",
    "    cors = CORS(app, resources={r\"/api/*\": {\"origins\": \"*\"}})\n",
    "\n",
    "    # CORS Headers \n",
    "    @app.after_request\n",
    "    def after_request(response):\n",
    "        response.headers.add('Access-Control-Allow-Headers', 'Content-Type,Authorization,true')\n",
    "        response.headers.add('Access-Control-Allow-Methods', 'GET,PATCH,POST,DELETE,OPTIONS')\n",
    "        return response\n",
    "    \n",
    "    @app.route('/messages')\n",
    "    @cross_origin()\n",
    "    def get_messages():\n",
    "        return 'GETTING MESSAGES'"
   ]
  }
 ],
 "metadata": {
  "kernelspec": {
   "display_name": "Python [conda env:udacity]",
   "language": "python",
   "name": "conda-env-udacity-py"
  },
  "language_info": {
   "codemirror_mode": {
    "name": "ipython",
    "version": 3
   },
   "file_extension": ".py",
   "mimetype": "text/x-python",
   "name": "python",
   "nbconvert_exporter": "python",
   "pygments_lexer": "ipython3",
   "version": "3.6.10"
  }
 },
 "nbformat": 4,
 "nbformat_minor": 2
}
